{
 "cells": [
  {
   "cell_type": "code",
   "execution_count": 1,
   "metadata": {},
   "outputs": [],
   "source": [
    "import pickle\n",
    "import json\n",
    "import pandas as pd\n",
    "from sklearn.svm import SVC\n",
    "\n",
    "from utils.dataloader import DataLoader \n",
    "from settings.constants import TRAIN_CSV, MODELS_FOLDER\n",
    "\n",
    "train_data = pd.read_csv(TRAIN_CSV)\n",
    "\n",
    "loader = DataLoader()\n",
    "loader.fit(train_data)\n",
    "X, y = loader.load_data()\n",
    "\n",
    "model = SVC(kernel='linear', C=0.5)\n",
    "model.fit(X, y)\n",
    "with open(MODELS_FOLDER + '\\\\SVC.pickle', 'wb')as f:\n",
    "    pickle.dump(model, f)"
   ]
  }
 ],
 "metadata": {
  "kernelspec": {
   "display_name": "Python 3",
   "language": "python",
   "name": "python3"
  },
  "language_info": {
   "codemirror_mode": {
    "name": "ipython",
    "version": 3
   },
   "file_extension": ".py",
   "mimetype": "text/x-python",
   "name": "python",
   "nbconvert_exporter": "python",
   "pygments_lexer": "ipython3",
   "version": "3.7.5"
  }
 },
 "nbformat": 4,
 "nbformat_minor": 4
}
